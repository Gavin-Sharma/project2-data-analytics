{
 "cells": [
  {
   "attachments": {},
   "cell_type": "markdown",
   "metadata": {},
   "source": [
    "# ML4: ___\n",
    "\n",
    "By: Chris"
   ]
  },
  {
   "attachments": {},
   "cell_type": "markdown",
   "metadata": {},
   "source": [
    "## Importing the libraries"
   ]
  },
  {
   "cell_type": "code",
   "execution_count": null,
   "metadata": {},
   "outputs": [],
   "source": [
    "import numpy as np\n",
    "import matplotlib.pyplot as plt\n",
    "import pandas as pd\n",
    "from sklearn.preprocessing import LabelEncoder\n",
    "import seaborn as sns"
   ]
  },
  {
   "attachments": {},
   "cell_type": "markdown",
   "metadata": {},
   "source": [
    "## Importing the dataset"
   ]
  },
  {
   "cell_type": "code",
   "execution_count": null,
   "metadata": {},
   "outputs": [],
   "source": [
    "dataset = pd.read_csv('./Customers.csv')\n",
    "df = pd.DataFrame(dataset)"
   ]
  },
  {
   "attachments": {},
   "cell_type": "markdown",
   "metadata": {},
   "source": [
    "## Clean Dataset"
   ]
  },
  {
   "cell_type": "code",
   "execution_count": null,
   "metadata": {},
   "outputs": [],
   "source": [
    "# Replace the missing values with mode\n",
    "df['Profession'] = df['Profession'].fillna(df['Profession'].mode()[0])\n",
    "\n",
    "# Remove outliars\n",
    "df = df.drop(df[df['Work Experience'] == 17].index)\n",
    "\n",
    "# creating an instance of labelencoder\n",
    "labelencoder = LabelEncoder()\n",
    "\n",
    "# Assigning numerical values and storing it in another column called \"Gender_Code\"\n",
    "df[\"Gender_Code\"] = labelencoder.fit_transform(df[\"Gender\"])\n",
    "\n",
    "# Assigning numerical values and storing it in another column called \"Profession_Code\"\n",
    "df[\"Profession_Code\"] = labelencoder.fit_transform(df[\"Profession\"])"
   ]
  }
 ],
 "metadata": {
  "language_info": {
   "name": "python"
  },
  "orig_nbformat": 4
 },
 "nbformat": 4,
 "nbformat_minor": 2
}
